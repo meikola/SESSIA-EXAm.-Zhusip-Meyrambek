{
  "nbformat": 4,
  "nbformat_minor": 0,
  "metadata": {
    "colab": {
      "provenance": []
    },
    "kernelspec": {
      "name": "python3",
      "display_name": "Python 3"
    },
    "language_info": {
      "name": "python"
    }
  },
  "cells": [
    {
      "cell_type": "markdown",
      "source": [
        "1.ИМПОРТ"
      ],
      "metadata": {
        "id": "2ZUgcvWvNvSe"
      }
    },
    {
      "cell_type": "code",
      "execution_count": 1,
      "metadata": {
        "id": "J5QmtJf_MlrM"
      },
      "outputs": [],
      "source": [
        "import torch\n",
        "import torch.nn as nn"
      ]
    },
    {
      "cell_type": "markdown",
      "source": [
        "2.определение класса ии"
      ],
      "metadata": {
        "id": "sLpxUarXN2Ke"
      }
    },
    {
      "cell_type": "code",
      "source": [
        "class SimpleCNN(nn.Module):\n",
        "    def __init__(self, C):\n",
        "        super(SimpleCNN, self).__init__()\n",
        "        self.conv1 = nn.Conv2d(in_channels=C, out_channels=C, kernel_size=(18, 18), stride=1, padding=0)\n",
        "        self.conv2 = nn.Conv2d(in_channels=C, out_channels=C, kernel_size=(18, 18), stride=1, padding=0)\n",
        "\n",
        "    def forward(self, x):\n",
        "        x = self.conv1(x)\n",
        "        x = self.conv2(x)\n",
        "        return x\n"
      ],
      "metadata": {
        "id": "2J21_ltSMssh"
      },
      "execution_count": 7,
      "outputs": []
    },
    {
      "cell_type": "markdown",
      "source": [
        "3.функция вычис рецептивного поля"
      ],
      "metadata": {
        "id": "Zw-CPNf1RXDA"
      }
    },
    {
      "cell_type": "code",
      "source": [
        "def compute_receptive_field(k, n_layers=2):\n",
        "    rf = 1\n",
        "    for _ in range(n_layers):\n",
        "        rf = rf + (k - 1)\n",
        "    return rf\n"
      ],
      "metadata": {
        "id": "efEH-J9eMu29"
      },
      "execution_count": 8,
      "outputs": []
    },
    {
      "cell_type": "markdown",
      "source": [
        "4.крит модель и вывод"
      ],
      "metadata": {
        "id": "Z2HYvTQxODFt"
      }
    },
    {
      "cell_type": "code",
      "source": [
        "C = 3 #кол каналов\n",
        "k = 18#размер ядра\n",
        "\n",
        "#крит модели\n",
        "model = SimpleCNN(C)\n",
        "print(\"Model architecture:\")\n",
        "print(model)\n",
        "\n",
        "#вычисление рецептивного поля\n",
        "rf = compute_receptive_field(k, 2)\n",
        "print(\"Receptive Field: {} x {}\".format(rf, rf))\n"
      ],
      "metadata": {
        "colab": {
          "base_uri": "https://localhost:8080/"
        },
        "id": "DsOo8M6QMwxR",
        "outputId": "abda2318-a3c0-43ff-8f6a-e2285ea2065a"
      },
      "execution_count": 9,
      "outputs": [
        {
          "output_type": "stream",
          "name": "stdout",
          "text": [
            "Model architecture:\n",
            "SimpleCNN(\n",
            "  (conv1): Conv2d(3, 3, kernel_size=(18, 18), stride=(1, 1))\n",
            "  (conv2): Conv2d(3, 3, kernel_size=(18, 18), stride=(1, 1))\n",
            ")\n",
            "Receptive Field: 35 x 35\n"
          ]
        }
      ]
    }
  ]
}